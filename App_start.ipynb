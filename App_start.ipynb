{
 "cells": [
  {
   "cell_type": "markdown",
   "metadata": {},
   "source": [
    "### Application for Aesthetic with XAI \n",
    "by Lun Zhang, date: 2025-04-16"
   ]
  },
  {
   "cell_type": "code",
   "execution_count": 69,
   "metadata": {},
   "outputs": [
    {
     "name": "stdout",
     "output_type": "stream",
     "text": [
      "device cuda:0\n"
     ]
    }
   ],
   "source": [
    "import os\n",
    "import random\n",
    "from scipy import stats\n",
    "from scipy.stats import rankdata\n",
    "\n",
    "import matplotlib as mpl\n",
    "import matplotlib.pyplot as plt\n",
    "import seaborn as sns\n",
    "from tqdm import tqdm\n",
    "import tkinter as tk\n",
    "from tkinter import ttk, filedialog, messagebox\n",
    "\n",
    "import torch\n",
    "import numpy as np\n",
    "from torch.utils.data import Dataset, DataLoader\n",
    "from torchvision import transforms as T\n",
    "from omegaconf import OmegaConf\n",
    "\n",
    "from torch_aesthetics.models import *\n",
    "from torch_aesthetics.cluster import *\n",
    "from torch_aesthetics.cluster_app import *\n",
    "from torch_aesthetics.losses import *\n",
    "from torch_aesthetics.aadb import AADB, load_transforms\n",
    "from torch_aesthetics.kan_figure import *\n",
    "\n",
    "\n",
    "\n",
    "# Set device to GPU if available, else use CPU\n",
    "device = torch.device('cuda:0' if torch.cuda.is_available() else 'cpu')\n",
    "print('Device:', device)\n",
    "\n",
    "# Load dataset\n",
    "dataset = AADB(\n",
    "    image_dir=cfg.data.image_dir,\n",
    "    labels_dir=cfg.data.labels_dir,\n",
    "    split=\"test\",\n",
    "    transforms=load_transforms(input_shape=cfg.data.input_shape)\n",
    ")\n",
    "\n",
    "# Initialize model\n",
    "model_Dev = RegressionNetwork_kan(\n",
    "    backbone='resnet50',\n",
    "    num_attributes=12,\n",
    "    pretrained=cfg.models.pretrained,\n",
    "    kan=None,\n",
    ")\n",
    "\n",
    "# Load model weights\n",
    "path_Reg = '/home/zl/下载/input/pykan-master/models/Cam_Lin_reg/Cam_Lin_reg_res50_y_12_epoch_13_loss_0.0696_grid_1_score_0.5755565230299889.pt'\n",
    "model_Dev.load_state_dict(torch.load(path_Reg))\n",
    "model_Dev.to(cfg.device).to(torch.float32)\n",
    "\n",
    "def show_heatmap_12dim(img_tensor, class_id=0, dataset=dataset, model_Dev=model_Dev, global_idx=0):\n",
    "    \"\"\"\n",
    "    Generates a heatmap for a specific class ID using Grad-CAM.\n",
    "    \n",
    "    Args:\n",
    "        img_tensor (torch.Tensor): Input image tensor.\n",
    "        class_id (int): Class ID for which to generate the heatmap.\n",
    "        dataset (AADB): Dataset containing image paths.\n",
    "        model_Dev (RegressionNetwork_kan): Model used for heatmap generation.\n",
    "        global_idx (int): Global index of the image in the dataset.\n",
    "    \n",
    "    Returns:\n",
    "        tuple: A tuple containing the result image with overlay and the heatmap.\n",
    "    \"\"\"\n",
    "    # Prepare input tensor\n",
    "    input_tensor = img_tensor.to(cfg.device).float()\n",
    "    \n",
    "    # Generate predictions\n",
    "    y_pred = model_Dev(input_tensor)\n",
    "    \n",
    "    # Define target layers for Grad-CAM\n",
    "    target_layers = [model_Dev.backbone.layer4[-1]]\n",
    "    \n",
    "    # Initialize Grad-CAM\n",
    "    cam = GradCAM(model=model_Dev, target_layers=target_layers)\n",
    "    \n",
    "    # Generate heatmap\n",
    "    cam_map = cam(input_tensor=input_tensor, targets=[ClassifierOutputTarget(class_id)])[0]\n",
    "    \n",
    "    # Load original image\n",
    "    img_path = dataset.image_paths[global_idx]\n",
    "    img_pil = Image.open(img_path)\n",
    "    \n",
    "    # Overlay heatmap on original image\n",
    "    result = overlay_mask(img_pil, Image.fromarray(cam_map), alpha=0.6)\n",
    "    \n",
    "    return result, cam_map"
   ]
  },
  {
   "cell_type": "code",
   "execution_count": 81,
   "metadata": {},
   "outputs": [
    {
     "name": "stderr",
     "output_type": "stream",
     "text": [
      "invalid command name \"140360340153024start_queue_polling\"\n",
      "    while executing\n",
      "\"140360340153024start_queue_polling\"\n",
      "    (\"after\" script)\n",
      "Exception in Tkinter callback\n",
      "Traceback (most recent call last):\n",
      "  File \"/home/zl/miniconda3/envs/d2l-zh/lib/python3.8/tkinter/__init__.py\", line 1892, in __call__\n",
      "    return self.func(*args)\n",
      "  File \"/tmp/ipykernel_68056/596614032.py\", line 1410, in load_folder\n",
      "    self.path_label.config(text=f\"Current Path: {path[:50]}...\")\n",
      "AttributeError: 'ImageDatasetApp' object has no attribute 'path_label'\n"
     ]
    },
    {
     "name": "stdout",
     "output_type": "stream",
     "text": [
      "show_dataset\n"
     ]
    },
    {
     "name": "stderr",
     "output_type": "stream",
     "text": [
      "100%|██████████| 2/2 [00:00<00:00,  5.13it/s]\n"
     ]
    },
    {
     "name": "stdout",
     "output_type": "stream",
     "text": [
      "test_normalized_features.shape: (25, 2048)\n",
      "centroids.shape: (10, 2048)\n",
      "3\n",
      "7\n",
      "3\n",
      "1\n",
      "2\n",
      "2\n",
      "3\n",
      "1\n",
      "2\n",
      "1\n"
     ]
    },
    {
     "name": "stderr",
     "output_type": "stream",
     "text": [
      "/home/zl/miniconda3/envs/d2l-zh/lib/python3.8/site-packages/torchvision/models/_utils.py:208: UserWarning: The parameter 'pretrained' is deprecated since 0.13 and may be removed in the future, please use 'weights' instead.\n",
      "  warnings.warn(\n",
      "/home/zl/miniconda3/envs/d2l-zh/lib/python3.8/site-packages/torchvision/models/_utils.py:223: UserWarning: Arguments other than a weight enum or `None` for 'weights' are deprecated since 0.13 and may be removed in the future. The current behavior is equivalent to passing `weights=ResNet50_Weights.IMAGENET1K_V1`. You can also use `weights=ResNet50_Weights.DEFAULT` to get the most up-to-date weights.\n",
      "  warnings.warn(msg)\n"
     ]
    },
    {
     "name": "stdout",
     "output_type": "stream",
     "text": [
      "(1, 16, 12)\n",
      "(1, 9, 12)\n",
      "show_dataset\n",
      "3\n",
      "7\n",
      "3\n",
      "1\n",
      "2\n",
      "2\n",
      "3\n",
      "1\n",
      "2\n",
      "1\n",
      "This image has a high overall clarity, with no focusing issues and no specific distortions. The lighting is sufficient, and the colors are monotonous. The main subjects are the birds on the lake surface and the tourists on the roadside, which are relatively clear. Most of the texture details are preserved. The composition is well-balanced, and the background is relatively clear. Therefore, the quality of this image is good.\n",
      "This image has a very good composition, with overall symmetry. The outline of the trees at the top of the image forms a heart shape, which adds a romantic and aesthetic appeal to the picture. The colors are vibrant and rich, with high contrast between the green of the trees and the blue of the sky. The overall clarity is also good. Therefore, the quality of this image is excellent.\n",
      "This image has a high overall clarity, with no focusing issues and no specific distortions. The lighting is sufficient, but the colors are monotonous. The main subjects are trees and a lawn, which are very clear and retain almost all texture details. The composition is well-balanced, and the background is very clear. Therefore, the quality of this image is excellent.\n"
     ]
    }
   ],
   "source": []
  },
  {
   "cell_type": "code",
   "execution_count": 67,
   "metadata": {},
   "outputs": [
    {
     "name": "stderr",
     "output_type": "stream",
     "text": [
      "invalid command name \"140361536953792start_queue_polling\"\n",
      "    while executing\n",
      "\"140361536953792start_queue_polling\"\n",
      "    (\"after\" script)\n"
     ]
    }
   ],
   "source": [
    "import APP.App_Aes_XAI as app\n",
    "if __name__ == \"__main__\":\n",
    "    root = tk.Tk()\n",
    "    app = app(root)\n",
    "    root.mainloop()\n"
   ]
  }
 ],
 "metadata": {
  "kernelspec": {
   "display_name": "d2l-zh",
   "language": "python",
   "name": "python3"
  },
  "language_info": {
   "codemirror_mode": {
    "name": "ipython",
    "version": 3
   },
   "file_extension": ".py",
   "mimetype": "text/x-python",
   "name": "python",
   "nbconvert_exporter": "python",
   "pygments_lexer": "ipython3",
   "version": "3.8.19"
  }
 },
 "nbformat": 4,
 "nbformat_minor": 2
}
